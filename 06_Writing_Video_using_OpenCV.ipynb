{
  "cells": [
    {
      "cell_type": "markdown",
      "metadata": {
        "id": "view-in-github",
        "colab_type": "text"
      },
      "source": [
        "<a href=\"https://colab.research.google.com/github/AmirMekni1/OpenCV-Bootcamp/blob/main/06_Writing_Video_using_OpenCV.ipynb\" target=\"_parent\"><img src=\"https://colab.research.google.com/assets/colab-badge.svg\" alt=\"Open In Colab\"/></a>"
      ]
    },
    {
      "cell_type": "markdown",
      "metadata": {
        "id": "gAhdSbUEridf"
      },
      "source": [
        "## Writing a video using OpenCV\n",
        "While building applications, it becomes important to save demo videos of your work as well as many applications themselves might require saving a video clip. For example, in a surveiallance application, you might have to save a video clip as soon as you see something unusual happening.\n",
        "\n",
        "In this notebook, we will describe how to save a video in **avi** and **mp4** formats using openCV."
      ]
    },
    {
      "cell_type": "code",
      "execution_count": 1,
      "metadata": {
        "ExecuteTime": {
          "end_time": "2023-03-29T19:26:25.392746Z",
          "start_time": "2023-03-29T19:26:24.752751Z"
        },
        "id": "vSw4Sv_5ridi"
      },
      "outputs": [],
      "source": [
        "# import the library\n",
        "import os\n",
        "import cv2\n",
        "import matplotlib.pyplot as plt\n",
        "\n",
        "from zipfile import ZipFile\n",
        "from urllib.request import urlretrieve\n",
        "\n",
        "from IPython.display import YouTubeVideo, display, HTML\n",
        "from base64 import b64encode\n",
        "\n",
        "%matplotlib inline"
      ]
    },
    {
      "cell_type": "markdown",
      "metadata": {
        "id": "JGxSUMITridj"
      },
      "source": [
        "##  <font style=\"color:black\">Download Assets</font>"
      ]
    },
    {
      "cell_type": "code",
      "execution_count": 2,
      "metadata": {
        "ExecuteTime": {
          "end_time": "2023-03-29T19:26:25.408745Z",
          "start_time": "2023-03-29T19:26:25.394745Z"
        },
        "id": "ArPEdqxnridk"
      },
      "outputs": [],
      "source": [
        "def download_and_unzip(url, save_path):\n",
        "    print(f\"Downloading and extracting assests....\", end=\"\")\n",
        "\n",
        "    # Downloading zip file using urllib package.\n",
        "    urlretrieve(url, save_path)\n",
        "\n",
        "    try:\n",
        "        # Extracting zip file using the zipfile package.\n",
        "        with ZipFile(save_path) as z:\n",
        "            # Extract ZIP file contents in the same directory.\n",
        "            z.extractall(os.path.split(save_path)[0])\n",
        "\n",
        "        print(\"Done\")\n",
        "\n",
        "    except Exception as e:\n",
        "        print(\"\\nInvalid file.\", e)"
      ]
    },
    {
      "cell_type": "code",
      "execution_count": 3,
      "metadata": {
        "ExecuteTime": {
          "end_time": "2023-03-29T19:26:39.439211Z",
          "start_time": "2023-03-29T19:26:25.411749Z"
        },
        "colab": {
          "base_uri": "https://localhost:8080/"
        },
        "id": "PtF1kmIVridk",
        "outputId": "4bfb8b81-73a5-4ab5-ae67-447b868e773f"
      },
      "outputs": [
        {
          "output_type": "stream",
          "name": "stdout",
          "text": [
            "Downloading and extracting assests....Done\n"
          ]
        }
      ],
      "source": [
        "URL = r\"https://www.dropbox.com/s/p8h7ckeo2dn1jtz/opencv_bootcamp_assets_NB6.zip?dl=1\"\n",
        "\n",
        "asset_zip_path = os.path.join(os.getcwd(), \"opencv_bootcamp_assets_NB6.zip\")\n",
        "\n",
        "# Download if assest ZIP does not exists.\n",
        "if not os.path.exists(asset_zip_path):\n",
        "    download_and_unzip(URL, asset_zip_path)"
      ]
    },
    {
      "cell_type": "markdown",
      "metadata": {
        "id": "Sgue0hz0ridk"
      },
      "source": [
        "## Read Video from Source"
      ]
    },
    {
      "cell_type": "code",
      "execution_count": 4,
      "metadata": {
        "ExecuteTime": {
          "end_time": "2023-03-29T19:26:39.516855Z",
          "start_time": "2023-03-29T19:26:39.441213Z"
        },
        "id": "MquOR-5gridl"
      },
      "outputs": [],
      "source": [
        "source = 'race_car.mp4'  # source = 0 for webcam\n",
        "\n",
        "cap = cv2.VideoCapture(source)"
      ]
    },
    {
      "cell_type": "code",
      "execution_count": 5,
      "metadata": {
        "ExecuteTime": {
          "end_time": "2023-03-29T19:26:39.532847Z",
          "start_time": "2023-03-29T19:26:39.519854Z"
        },
        "id": "gHtvg5eMridl"
      },
      "outputs": [],
      "source": [
        "if not cap.isOpened():\n",
        "    print(\"Error opening video stream or file\")"
      ]
    },
    {
      "cell_type": "markdown",
      "metadata": {
        "id": "5bgr_N3bridm"
      },
      "source": [
        "### <font color=\"green\">Read and display one frame </font>"
      ]
    },
    {
      "cell_type": "code",
      "execution_count": null,
      "metadata": {
        "ExecuteTime": {
          "end_time": "2023-03-29T19:26:39.580876Z",
          "start_time": "2023-03-29T19:26:39.535854Z"
        },
        "id": "0P0hXa-kridm"
      },
      "outputs": [],
      "source": [
        "ret, frame = cap.read()"
      ]
    },
    {
      "cell_type": "code",
      "execution_count": 6,
      "metadata": {
        "ExecuteTime": {
          "end_time": "2023-03-29T19:26:39.992854Z",
          "start_time": "2023-03-29T19:26:39.582867Z"
        },
        "colab": {
          "base_uri": "https://localhost:8080/",
          "height": 148
        },
        "id": "MZUiUJ7Yridm",
        "outputId": "b550ccfb-4be4-46ed-8333-9917b68cd1fb"
      },
      "outputs": [
        {
          "output_type": "error",
          "ename": "NameError",
          "evalue": "name 'frame' is not defined",
          "traceback": [
            "\u001b[0;31m---------------------------------------------------------------------------\u001b[0m",
            "\u001b[0;31mNameError\u001b[0m                                 Traceback (most recent call last)",
            "\u001b[0;32m<ipython-input-6-b2d78d3681cc>\u001b[0m in \u001b[0;36m<cell line: 1>\u001b[0;34m()\u001b[0m\n\u001b[0;32m----> 1\u001b[0;31m \u001b[0mplt\u001b[0m\u001b[0;34m.\u001b[0m\u001b[0mimshow\u001b[0m\u001b[0;34m(\u001b[0m\u001b[0mframe\u001b[0m\u001b[0;34m[\u001b[0m\u001b[0;34m...\u001b[0m\u001b[0;34m,\u001b[0m \u001b[0;34m:\u001b[0m\u001b[0;34m:\u001b[0m\u001b[0;34m-\u001b[0m\u001b[0;36m1\u001b[0m\u001b[0;34m]\u001b[0m\u001b[0;34m)\u001b[0m\u001b[0;34m\u001b[0m\u001b[0;34m\u001b[0m\u001b[0m\n\u001b[0m",
            "\u001b[0;31mNameError\u001b[0m: name 'frame' is not defined"
          ]
        }
      ],
      "source": [
        "plt.imshow(frame[..., ::-1])"
      ]
    },
    {
      "cell_type": "markdown",
      "metadata": {
        "id": "r-yIyTAWridn"
      },
      "source": [
        "### <font color=\"green\">Display the video file </font>"
      ]
    },
    {
      "cell_type": "code",
      "execution_count": 7,
      "metadata": {
        "ExecuteTime": {
          "end_time": "2023-03-29T19:26:40.008876Z",
          "start_time": "2023-03-29T19:26:39.994866Z"
        },
        "colab": {
          "base_uri": "https://localhost:8080/",
          "height": 460
        },
        "id": "0PFPdcnMridn",
        "outputId": "439c5f56-9c4b-4114-aabc-53521e956b0e"
      },
      "outputs": [
        {
          "output_type": "display_data",
          "data": {
            "text/plain": [
              "<IPython.lib.display.YouTubeVideo at 0x79ad0b12d9c0>"
            ],
            "text/html": [
              "\n",
              "        <iframe\n",
              "            width=\"700\"\n",
              "            height=\"438\"\n",
              "            src=\"https://www.youtube.com/embed/RwxVEjv78LQ\"\n",
              "            frameborder=\"0\"\n",
              "            allowfullscreen\n",
              "            \n",
              "        ></iframe>\n",
              "        "
            ],
            "image/jpeg": "[encoded data removed]"
          },
          "metadata": {}
        }
      ],
      "source": [
        "video = YouTubeVideo(\"RwxVEjv78LQ\", width=700, height=438)\n",
        "display(video)"
      ]
    },
    {
      "cell_type": "markdown",
      "metadata": {
        "id": "3qARqOYQrido"
      },
      "source": [
        "## Write Video using OpenCV\n",
        "For writing the video, you need to create a videowriter object with the right parameters.\n",
        "\n",
        "### <font color=\"green\">Function Syntax</font>\n",
        "\n",
        "```python\n",
        "VideoWriter object = cv.VideoWriter(filename, fourcc, fps, frameSize )\n",
        "```\n",
        "where,\n",
        "**Parameters**\n",
        "\n",
        "1. `filename`: Name of the output video file.\n",
        "\n",
        "2. `fourcc`: 4-character code of codec used to compress the frames. For example, `VideoWriter::fourcc('P','I','M','1')` is a MPEG-1 codec, VideoWriter::fourcc('M','J','P','G') is a motion-jpeg codec etc. List of codes can be obtained at Video Codecs by FOURCC page. FFMPEG backend with MP4 container natively uses other values as fourcc code: see ObjectType, so you may receive a warning message from OpenCV about fourcc code conversion.\n",
        "\n",
        "3. `fps`: Framerate of the created video stream.\n",
        "\n",
        "4. `frameSize`: Size of the video frames."
      ]
    },
    {
      "cell_type": "code",
      "execution_count": null,
      "metadata": {
        "ExecuteTime": {
          "end_time": "2023-03-29T19:26:40.040858Z",
          "start_time": "2023-03-29T19:26:40.013849Z"
        },
        "id": "O2VnMTKyrido"
      },
      "outputs": [],
      "source": [
        "# Default resolutions of the frame are obtained.\n",
        "# Convert the resolutions from float to integer.\n",
        "frame_width = int(cap.get(3))\n",
        "frame_height = int(cap.get(4))\n",
        "\n",
        "# Define the codec and create VideoWriter object.\n",
        "out_avi = cv2.VideoWriter(\"race_car_out.avi\", cv2.VideoWriter_fourcc(\"M\", \"J\", \"P\", \"G\"), 10, (frame_width, frame_height))\n",
        "\n",
        "out_mp4 = cv2.VideoWriter(\"race_car_out.mp4\", cv2.VideoWriter_fourcc(*\"XVID\"), 10, (frame_width, frame_height))"
      ]
    },
    {
      "cell_type": "markdown",
      "metadata": {
        "id": "HuBwJjpQrido"
      },
      "source": [
        "### <font color=\"green\">Read frames and write to file</font>\n",
        "We will read the frames from the race-car video and write the same to the two objects we created in the previous step. We should release the objects after the task is complete."
      ]
    },
    {
      "cell_type": "code",
      "execution_count": null,
      "metadata": {
        "ExecuteTime": {
          "end_time": "2023-03-29T19:26:45.638848Z",
          "start_time": "2023-03-29T19:26:40.042858Z"
        },
        "id": "2NpzWkuKrido"
      },
      "outputs": [],
      "source": [
        "# Read until video is completed\n",
        "while cap.isOpened():\n",
        "    # Capture frame-by-frame\n",
        "    ret, frame = cap.read()\n",
        "\n",
        "    if ret:\n",
        "        # Write the frame to the output files\n",
        "        out_avi.write(frame)\n",
        "        out_mp4.write(frame)\n",
        "\n",
        "    # Break the loop\n",
        "    else:\n",
        "        break"
      ]
    },
    {
      "cell_type": "code",
      "execution_count": null,
      "metadata": {
        "ExecuteTime": {
          "end_time": "2023-03-29T19:26:45.669845Z",
          "start_time": "2023-03-29T19:26:45.641847Z"
        },
        "id": "iy_O1RURridp"
      },
      "outputs": [],
      "source": [
        "# When everything done, release the VideoCapture and VideoWriter objects\n",
        "cap.release()\n",
        "out_avi.release()\n",
        "out_mp4.release()"
      ]
    },
    {
      "cell_type": "markdown",
      "source": [
        "To display video on Google Colab, we will install and use the `ffmpeg` package. Using `ffmpeg` we will change the encoding of the `.mp4` file from XVID to H264\n",
        "\n",
        "HTML 5 can properly render videos with H264 encoding and OpenCV doesn't have that encoding yet. That's why we need to change their encodings such that they can be rendered."
      ],
      "metadata": {
        "id": "k7jujteM9f7s"
      }
    },
    {
      "cell_type": "code",
      "source": [
        "# Installing ffmpeg\n",
        "\n",
        "!apt-get -qq install ffmpeg"
      ],
      "metadata": {
        "id": "2BLUtp_p-nrf"
      },
      "execution_count": null,
      "outputs": []
    },
    {
      "cell_type": "markdown",
      "source": [
        "Currently, HTML5 only suports renedering of MP4 files, so we'll only change the encoding of the `race_car_out.mp4` file."
      ],
      "metadata": {
        "id": "_2hCKSQXELzT"
      }
    },
    {
      "cell_type": "code",
      "source": [
        "# Change video encoding of mp4 file from XVID to h264\n",
        "!ffmpeg -y -i \"/content/race_car_out.mp4\" -c:v libx264 \"race_car_out_x264.mp4\"  -hide_banner -loglevel error"
      ],
      "metadata": {
        "id": "88J6JV709eno"
      },
      "execution_count": null,
      "outputs": []
    },
    {
      "cell_type": "markdown",
      "source": [
        "Render MP4 Video"
      ],
      "metadata": {
        "id": "8OyhdmeLEpV3"
      }
    },
    {
      "cell_type": "code",
      "source": [
        "mp4 = open(\"/content/race_car_out_x264.mp4\", \"rb\").read()\n",
        "data_url = \"data:video/mp4;base64,\" + b64encode(mp4).decode()\n",
        "\n",
        "HTML(f\"\"\"<video width=700 controls><source src=\"{data_url}\" type=\"video/mp4\"></video>\"\"\")"
      ],
      "metadata": {
        "id": "eYkSCk54-gsK"
      },
      "execution_count": null,
      "outputs": []
    },
    {
      "cell_type": "markdown",
      "source": [
        "The video rendered in the above cell should be the same as the following."
      ],
      "metadata": {
        "id": "7ZJY_IrZIFkf"
      }
    },
    {
      "cell_type": "code",
      "source": [
        "video = YouTubeVideo(\"2Gju7YLfkP0\", width=700, height=438)\n",
        "display(video)"
      ],
      "metadata": {
        "id": "TTNM7wDrIP_4",
        "colab": {
          "base_uri": "https://localhost:8080/",
          "height": 459
        },
        "outputId": "f9467c65-d89b-47ba-dc8a-f5dc6a195348"
      },
      "execution_count": null,
      "outputs": [
        {
          "output_type": "display_data",
          "data": {
            "text/plain": [
              "<IPython.lib.display.YouTubeVideo at 0x7fa71c572640>"
            ],
            "text/html": [
              "\n",
              "        <iframe\n",
              "            width=\"700\"\n",
              "            height=\"438\"\n",
              "            src=\"https://www.youtube.com/embed/2Gju7YLfkP0\"\n",
              "            frameborder=\"0\"\n",
              "            allowfullscreen\n",
              "            \n",
              "        ></iframe>\n",
              "        "
            ],
            "image/jpeg": "[encoded data removed]"
          },
          "metadata": {}
        }
      ]
    },
    {
      "cell_type": "markdown",
      "metadata": {
        "id": "zbd8BeRxridp"
      },
      "source": [
        "## Thank You!"
      ]
    }
  ],
  "metadata": {
    "celltoolbar": "Slideshow",
    "colab": {
      "provenance": [],
      "include_colab_link": true
    },
    "kernelspec": {
      "display_name": "Python 3 (ipykernel)",
      "language": "python",
      "name": "python3"
    },
    "language_info": {
      "codemirror_mode": {
        "name": "ipython",
        "version": 3
      },
      "file_extension": ".py",
      "mimetype": "text/x-python",
      "name": "python",
      "nbconvert_exporter": "python",
      "pygments_lexer": "ipython3",
      "version": "3.10.9"
    },
    "toc": {
      "base_numbering": 1,
      "nav_menu": {},
      "number_sections": false,
      "sideBar": true,
      "skip_h1_title": false,
      "title_cell": "Table of Contents",
      "title_sidebar": "Contents",
      "toc_cell": false,
      "toc_position": {
        "height": "calc(100% - 180px)",
        "left": "10px",
        "top": "150px",
        "width": "160px"
      },
      "toc_section_display": true,
      "toc_window_display": false
    },
    "varInspector": {
      "cols": {
        "lenName": 16,
        "lenType": 16,
        "lenVar": 40
      },
      "kernels_config": {
        "python": {
          "delete_cmd_postfix": "",
          "delete_cmd_prefix": "del ",
          "library": "var_list.py",
          "varRefreshCmd": "print(var_dic_list())"
        },
        "r": {
          "delete_cmd_postfix": ") ",
          "delete_cmd_prefix": "rm(",
          "library": "var_list.r",
          "varRefreshCmd": "cat(var_dic_list()) "
        }
      },
      "types_to_exclude": [
        "module",
        "function",
        "builtin_function_or_method",
        "instance",
        "_Feature"
      ],
      "window_display": false
    }
  },
  "nbformat": 4,
  "nbformat_minor": 0
}